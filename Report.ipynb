{
 "cells": [
  {
   "cell_type": "markdown",
   "metadata": {},
   "source": [
    "# Neural Matching Models for Question Retrieval and Next Question Prediction in Conversation\n",
    "## RNN CNN Match\n",
    "### Implementation\n",
    "#### https://arxiv.org/pdf/1707.05409.pdf"
   ]
  },
  {
   "cell_type": "markdown",
   "metadata": {},
   "source": [
    "# Задачи"
   ]
  },
  {
   "cell_type": "markdown",
   "metadata": {},
   "source": [
    "1. Подготовка данных (отчистка и векторизация). Разбиение на train/test\n",
    "1. Реализация модели LSTM-CNN-Match. В качестве функции потерь использовать бинарную кросс-энтропию. (Помните, что у двух башен модели должны быть одинаковые веса)\n",
    "1. Обучение.\n",
    "1. Выводы по метрикам/лоссу. Общие выводы по модели\n",
    "1. Сделать коммит на kaggle."
   ]
  },
  {
   "cell_type": "markdown",
   "metadata": {},
   "source": [
    "# Решение"
   ]
  },
  {
   "cell_type": "markdown",
   "metadata": {},
   "source": []
  },
  {
   "cell_type": "markdown",
   "metadata": {},
   "source": [
    "## Подготовка данных"
   ]
  },
  {
   "cell_type": "markdown",
   "metadata": {},
   "source": []
  },
  {
   "cell_type": "markdown",
   "metadata": {},
   "source": []
  },
  {
   "cell_type": "markdown",
   "metadata": {},
   "source": []
  },
  {
   "cell_type": "markdown",
   "metadata": {},
   "source": []
  },
  {
   "cell_type": "markdown",
   "metadata": {},
   "source": []
  },
  {
   "cell_type": "markdown",
   "metadata": {},
   "source": []
  },
  {
   "cell_type": "markdown",
   "metadata": {},
   "source": [
    "# Архитектура"
   ]
  },
  {
   "cell_type": "markdown",
   "metadata": {},
   "source": [
    "![alt text](./images/arch.png)\n",
    "\n",
    "### PyTorch like\n",
    "\n",
    "```python\n",
    "SimilarityTemplate(\n",
    "  (query_embedding_layer): Embedding(79279, 300, padding_idx=0)\n",
    "  (candidate_embedding_layer): Embedding(79279, 300, padding_idx=0)\n",
    "  (query_model): RNNCNNMatch(\n",
    "    (fully_connected): Linear(in_features=896, out_features=300, bias=True)\n",
    "    (model): Sequential(\n",
    "      (0): RNN(\n",
    "        (rnn): LSTM(300, 256)\n",
    "      )\n",
    "      (1): CNN(\n",
    "        (convolution_layer): Conv1d(256, 128, kernel_size=(1,), stride=(1,))\n",
    "        (activation_function): GELU()\n",
    "        (pool_layer): MaxPool1d(kernel_size=4, stride=1, padding=0, dilation=1, ceil_mode=False)\n",
    "      )\n",
    "      (2): CNN(\n",
    "        (convolution_layer): Conv1d(128, 128, kernel_size=(2,), stride=(1,))\n",
    "        (activation_function): GELU()\n",
    "        (pool_layer): MaxPool1d(kernel_size=4, stride=1, padding=0, dilation=1, ceil_mode=False)\n",
    "      )\n",
    "      (3): CNN(\n",
    "        (convolution_layer): Conv1d(128, 128, kernel_size=(3,), stride=(1,))\n",
    "        (activation_function): GELU()\n",
    "        (pool_layer): MaxPool1d(kernel_size=4, stride=1, padding=0, dilation=1, ceil_mode=False)\n",
    "      )\n",
    "      (4): CNN(\n",
    "        (convolution_layer): Conv1d(128, 128, kernel_size=(4,), stride=(1,))\n",
    "        (activation_function): GELU()\n",
    "        (pool_layer): MaxPool1d(kernel_size=4, stride=1, padding=0, dilation=1, ceil_mode=False)\n",
    "      )\n",
    "      (5): CNN(\n",
    "        (convolution_layer): Conv1d(128, 128, kernel_size=(5,), stride=(1,))\n",
    "        (activation_function): GELU()\n",
    "        (pool_layer): MaxPool1d(kernel_size=4, stride=1, padding=0, dilation=1, ceil_mode=False)\n",
    "      )\n",
    "    )\n",
    "  )\n",
    "  (candidate_model): RNNCNNMatch(\n",
    "    (fully_connected): Linear(in_features=896, out_features=300, bias=True)\n",
    "    (model): Sequential(\n",
    "      (0): RNN(\n",
    "        (rnn): LSTM(300, 256)\n",
    "      )\n",
    "      (1): CNN(\n",
    "        (convolution_layer): Conv1d(256, 128, kernel_size=(1,), stride=(1,))\n",
    "        (activation_function): GELU()\n",
    "        (pool_layer): MaxPool1d(kernel_size=4, stride=1, padding=0, dilation=1, ceil_mode=False)\n",
    "      )\n",
    "      (2): CNN(\n",
    "        (convolution_layer): Conv1d(128, 128, kernel_size=(2,), stride=(1,))\n",
    "        (activation_function): GELU()\n",
    "        (pool_layer): MaxPool1d(kernel_size=4, stride=1, padding=0, dilation=1, ceil_mode=False)\n",
    "      )\n",
    "      (3): CNN(\n",
    "        (convolution_layer): Conv1d(128, 128, kernel_size=(3,), stride=(1,))\n",
    "        (activation_function): GELU()\n",
    "        (pool_layer): MaxPool1d(kernel_size=4, stride=1, padding=0, dilation=1, ceil_mode=False)\n",
    "      )\n",
    "      (4): CNN(\n",
    "        (convolution_layer): Conv1d(128, 128, kernel_size=(4,), stride=(1,))\n",
    "        (activation_function): GELU()\n",
    "        (pool_layer): MaxPool1d(kernel_size=4, stride=1, padding=0, dilation=1, ceil_mode=False)\n",
    "      )\n",
    "      (5): CNN(\n",
    "        (convolution_layer): Conv1d(128, 128, kernel_size=(5,), stride=(1,))\n",
    "        (activation_function): GELU()\n",
    "        (pool_layer): MaxPool1d(kernel_size=4, stride=1, padding=0, dilation=1, ceil_mode=False)\n",
    "      )\n",
    "    )\n",
    "  )\n",
    "  (similarity_function): CosineSimilarity()\n",
    "  (loss): BCELoss()\n",
    ")\n",
    "```"
   ]
  },
  {
   "cell_type": "markdown",
   "metadata": {},
   "source": []
  },
  {
   "cell_type": "markdown",
   "metadata": {},
   "source": []
  },
  {
   "cell_type": "markdown",
   "metadata": {},
   "source": []
  },
  {
   "cell_type": "markdown",
   "metadata": {},
   "source": []
  },
  {
   "cell_type": "markdown",
   "metadata": {},
   "source": []
  },
  {
   "cell_type": "markdown",
   "metadata": {},
   "source": []
  },
  {
   "cell_type": "markdown",
   "metadata": {},
   "source": []
  }
 ],
 "metadata": {
  "kernelspec": {
   "display_name": "Python 3",
   "language": "python",
   "name": "python3"
  },
  "language_info": {
   "codemirror_mode": {
    "name": "ipython",
    "version": 3
   },
   "file_extension": ".py",
   "mimetype": "text/x-python",
   "name": "python",
   "nbconvert_exporter": "python",
   "pygments_lexer": "ipython3",
   "version": "3.6.6"
  }
 },
 "nbformat": 4,
 "nbformat_minor": 2
}

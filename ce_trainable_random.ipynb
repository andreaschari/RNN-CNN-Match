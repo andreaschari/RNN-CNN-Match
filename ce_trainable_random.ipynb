{
 "cells": [
  {
   "cell_type": "code",
   "execution_count": 1,
   "metadata": {},
   "outputs": [],
   "source": [
    "import torch\n",
    "from tools import config, Wrapper, DatasetQuora\n",
    "from modelling.models import RNNCNNMatch\n",
    "from modelling.templates import SimilarityTemplate"
   ]
  },
  {
   "cell_type": "code",
   "execution_count": 2,
   "metadata": {},
   "outputs": [
    {
     "name": "stdout",
     "output_type": "stream",
     "text": [
      "CPU times: user 1min 13s, sys: 544 ms, total: 1min 14s\n",
      "Wall time: 1min 14s\n"
     ]
    }
   ],
   "source": [
    "%%time\n",
    "dataset = DatasetQuora(train_file=config.TRAIN_FILE,\n",
    "                       test_file=config.TEST_FILE, \n",
    "                       sample_submission_file=config.SAMPLE_SUBMISSION_FILE)"
   ]
  },
  {
   "cell_type": "code",
   "execution_count": 3,
   "metadata": {},
   "outputs": [],
   "source": [
    "rnn_cnn_match = SimilarityTemplate(\n",
    "    query_model=RNNCNNMatch(), \n",
    "    vocab_size=len(dataset.token2index),\n",
    "    loss_type='cross_entropy')"
   ]
  },
  {
   "cell_type": "code",
   "execution_count": 4,
   "metadata": {},
   "outputs": [
    {
     "data": {
      "text/plain": [
       "SimilarityTemplate(\n",
       "  (query_embedding_layer): Embedding(79279, 300, padding_idx=0)\n",
       "  (candidate_embedding_layer): Embedding(79279, 300, padding_idx=0)\n",
       "  (query_model): RNNCNNMatch(\n",
       "    (fully_connected): Linear(in_features=896, out_features=300, bias=True)\n",
       "    (model): Sequential(\n",
       "      (0): RNN(\n",
       "        (rnn): LSTM(300, 256)\n",
       "      )\n",
       "      (1): CNN(\n",
       "        (convolution_layer): Conv1d(256, 128, kernel_size=(1,), stride=(1,))\n",
       "        (activation_function): GELU()\n",
       "        (pool_layer): MaxPool1d(kernel_size=4, stride=1, padding=0, dilation=1, ceil_mode=False)\n",
       "      )\n",
       "      (2): CNN(\n",
       "        (convolution_layer): Conv1d(128, 128, kernel_size=(2,), stride=(1,))\n",
       "        (activation_function): GELU()\n",
       "        (pool_layer): MaxPool1d(kernel_size=4, stride=1, padding=0, dilation=1, ceil_mode=False)\n",
       "      )\n",
       "      (3): CNN(\n",
       "        (convolution_layer): Conv1d(128, 128, kernel_size=(3,), stride=(1,))\n",
       "        (activation_function): GELU()\n",
       "        (pool_layer): MaxPool1d(kernel_size=4, stride=1, padding=0, dilation=1, ceil_mode=False)\n",
       "      )\n",
       "      (4): CNN(\n",
       "        (convolution_layer): Conv1d(128, 128, kernel_size=(4,), stride=(1,))\n",
       "        (activation_function): GELU()\n",
       "        (pool_layer): MaxPool1d(kernel_size=4, stride=1, padding=0, dilation=1, ceil_mode=False)\n",
       "      )\n",
       "      (5): CNN(\n",
       "        (convolution_layer): Conv1d(128, 128, kernel_size=(5,), stride=(1,))\n",
       "        (activation_function): GELU()\n",
       "        (pool_layer): MaxPool1d(kernel_size=4, stride=1, padding=0, dilation=1, ceil_mode=False)\n",
       "      )\n",
       "    )\n",
       "  )\n",
       "  (candidate_model): RNNCNNMatch(\n",
       "    (fully_connected): Linear(in_features=896, out_features=300, bias=True)\n",
       "    (model): Sequential(\n",
       "      (0): RNN(\n",
       "        (rnn): LSTM(300, 256)\n",
       "      )\n",
       "      (1): CNN(\n",
       "        (convolution_layer): Conv1d(256, 128, kernel_size=(1,), stride=(1,))\n",
       "        (activation_function): GELU()\n",
       "        (pool_layer): MaxPool1d(kernel_size=4, stride=1, padding=0, dilation=1, ceil_mode=False)\n",
       "      )\n",
       "      (2): CNN(\n",
       "        (convolution_layer): Conv1d(128, 128, kernel_size=(2,), stride=(1,))\n",
       "        (activation_function): GELU()\n",
       "        (pool_layer): MaxPool1d(kernel_size=4, stride=1, padding=0, dilation=1, ceil_mode=False)\n",
       "      )\n",
       "      (3): CNN(\n",
       "        (convolution_layer): Conv1d(128, 128, kernel_size=(3,), stride=(1,))\n",
       "        (activation_function): GELU()\n",
       "        (pool_layer): MaxPool1d(kernel_size=4, stride=1, padding=0, dilation=1, ceil_mode=False)\n",
       "      )\n",
       "      (4): CNN(\n",
       "        (convolution_layer): Conv1d(128, 128, kernel_size=(4,), stride=(1,))\n",
       "        (activation_function): GELU()\n",
       "        (pool_layer): MaxPool1d(kernel_size=4, stride=1, padding=0, dilation=1, ceil_mode=False)\n",
       "      )\n",
       "      (5): CNN(\n",
       "        (convolution_layer): Conv1d(128, 128, kernel_size=(5,), stride=(1,))\n",
       "        (activation_function): GELU()\n",
       "        (pool_layer): MaxPool1d(kernel_size=4, stride=1, padding=0, dilation=1, ceil_mode=False)\n",
       "      )\n",
       "    )\n",
       "  )\n",
       "  (similarity_function): CosineSimilarity()\n",
       "  (loss): BCELoss()\n",
       ")"
      ]
     },
     "execution_count": 4,
     "metadata": {},
     "output_type": "execute_result"
    }
   ],
   "source": [
    "rnn_cnn_match"
   ]
  },
  {
   "cell_type": "code",
   "execution_count": 5,
   "metadata": {},
   "outputs": [],
   "source": [
    "optimizer = torch.optim.Adam(rnn_cnn_match.parameters())"
   ]
  },
  {
   "cell_type": "code",
   "execution_count": 6,
   "metadata": {},
   "outputs": [],
   "source": [
    "rcm = Wrapper(dataset=dataset, \n",
    "              model=rnn_cnn_match, \n",
    "              optimizer=optimizer, \n",
    "              model_name=config.MODEL_NAME, \n",
    "              max_norm=0.1,\n",
    "              batch_size=32,\n",
    "              cross_entropy_negative_k_ratio=1.5, \n",
    "              generate_negatives_type='random',\n",
    "              validation_batch_size_multiplier=64)"
   ]
  },
  {
   "cell_type": "code",
   "execution_count": 7,
   "metadata": {
    "scrolled": false
   },
   "outputs": [
    {
     "name": "stderr",
     "output_type": "stream",
     "text": [
      "Train Epoch 1:   0%|          | 0/3731 [00:00<?, ?it/s]/floyd/home/tools/wrapper.py:261: UserWarning: torch.nn.utils.clip_grad_norm is now deprecated in favor of torch.nn.utils.clip_grad_norm_.\n",
      "  torch.nn.utils.clip_grad.clip_grad_norm(self.model.parameters(), max_norm=self.max_norm)\n",
      "Train Epoch 1:  40%|████      | 1493/3731 [01:39<02:28, 15.02it/s]\n",
      "Train Epoch 2:   0%|          | 2/3731 [00:00<04:11, 14.83it/s]"
     ]
    },
    {
     "name": "stdout",
     "output_type": "stream",
     "text": [
      "Epoch: [1/15] | Cross_entropy loss: 0.770 | Validation Loss: 0.456\n",
      "Mean Recall: 0.76 | Validation Recall: 0.80\n"
     ]
    },
    {
     "name": "stderr",
     "output_type": "stream",
     "text": [
      "Train Epoch 2:  40%|████      | 1493/3731 [01:42<02:33, 14.57it/s]\n",
      "Train Epoch 3:   0%|          | 2/3731 [00:00<04:18, 14.45it/s]"
     ]
    },
    {
     "name": "stdout",
     "output_type": "stream",
     "text": [
      "Epoch: [2/15] | Cross_entropy loss: 0.300 | Validation Loss: 0.365\n",
      "Mean Recall: 0.87 | Validation Recall: 0.85\n"
     ]
    },
    {
     "name": "stderr",
     "output_type": "stream",
     "text": [
      "Train Epoch 3:  40%|████      | 1493/3731 [01:42<02:34, 14.53it/s]\n",
      "Train Epoch 4:   0%|          | 2/3731 [00:00<04:19, 14.39it/s]"
     ]
    },
    {
     "name": "stdout",
     "output_type": "stream",
     "text": [
      "Epoch: [3/15] | Cross_entropy loss: 0.242 | Validation Loss: 0.379\n",
      "Mean Recall: 0.90 | Validation Recall: 0.84\n"
     ]
    },
    {
     "name": "stderr",
     "output_type": "stream",
     "text": [
      "Train Epoch 4:  40%|████      | 1493/3731 [01:42<02:33, 14.56it/s]\n",
      "Train Epoch 5:   0%|          | 2/3731 [00:00<04:17, 14.48it/s]"
     ]
    },
    {
     "name": "stdout",
     "output_type": "stream",
     "text": [
      "Epoch: [4/15] | Cross_entropy loss: 0.205 | Validation Loss: 0.349\n",
      "Mean Recall: 0.92 | Validation Recall: 0.86\n"
     ]
    },
    {
     "name": "stderr",
     "output_type": "stream",
     "text": [
      "Train Epoch 5:  40%|████      | 1493/3731 [01:42<02:34, 14.52it/s]\n",
      "Train Epoch 6:   0%|          | 2/3731 [00:00<04:24, 14.12it/s]"
     ]
    },
    {
     "name": "stdout",
     "output_type": "stream",
     "text": [
      "Epoch: [5/15] | Cross_entropy loss: 0.177 | Validation Loss: 0.367\n",
      "Mean Recall: 0.93 | Validation Recall: 0.86\n"
     ]
    },
    {
     "name": "stderr",
     "output_type": "stream",
     "text": [
      "Train Epoch 6:  40%|████      | 1493/3731 [01:43<02:34, 14.48it/s]\n",
      "Train Epoch 7:   0%|          | 2/3731 [00:00<04:21, 14.24it/s]"
     ]
    },
    {
     "name": "stdout",
     "output_type": "stream",
     "text": [
      "Epoch: [6/15] | Cross_entropy loss: 0.159 | Validation Loss: 0.362\n",
      "Mean Recall: 0.94 | Validation Recall: 0.86\n"
     ]
    },
    {
     "name": "stderr",
     "output_type": "stream",
     "text": [
      "Train Epoch 7:  40%|████      | 1493/3731 [01:42<02:33, 14.57it/s]\n",
      "Train Epoch 8:   0%|          | 2/3731 [00:00<04:16, 14.54it/s]"
     ]
    },
    {
     "name": "stdout",
     "output_type": "stream",
     "text": [
      "Epoch: [7/15] | Cross_entropy loss: 0.148 | Validation Loss: 0.389\n",
      "Mean Recall: 0.95 | Validation Recall: 0.86\n"
     ]
    },
    {
     "name": "stderr",
     "output_type": "stream",
     "text": [
      "Train Epoch 8:  40%|████      | 1493/3731 [01:42<02:33, 14.55it/s]\n",
      "Train Epoch 9:   0%|          | 2/3731 [00:00<04:15, 14.61it/s]"
     ]
    },
    {
     "name": "stdout",
     "output_type": "stream",
     "text": [
      "Epoch: [8/15] | Cross_entropy loss: 0.131 | Validation Loss: 0.334\n",
      "Mean Recall: 0.95 | Validation Recall: 0.87\n"
     ]
    },
    {
     "name": "stderr",
     "output_type": "stream",
     "text": [
      "Train Epoch 9:  40%|████      | 1493/3731 [01:42<02:33, 14.57it/s]\n",
      "Train Epoch 10:   0%|          | 2/3731 [00:00<04:21, 14.28it/s]"
     ]
    },
    {
     "name": "stdout",
     "output_type": "stream",
     "text": [
      "Epoch: [9/15] | Cross_entropy loss: 0.123 | Validation Loss: 0.374\n",
      "Mean Recall: 0.96 | Validation Recall: 0.86\n"
     ]
    },
    {
     "name": "stderr",
     "output_type": "stream",
     "text": [
      "Train Epoch 10:  40%|████      | 1493/3731 [01:42<02:33, 14.54it/s]\n",
      "Train Epoch 11:   0%|          | 2/3731 [00:00<04:13, 14.71it/s]"
     ]
    },
    {
     "name": "stdout",
     "output_type": "stream",
     "text": [
      "Epoch: [10/15] | Cross_entropy loss: 0.116 | Validation Loss: 0.419\n",
      "Mean Recall: 0.96 | Validation Recall: 0.86\n"
     ]
    },
    {
     "name": "stderr",
     "output_type": "stream",
     "text": [
      "Train Epoch 11:  40%|████      | 1493/3731 [01:42<02:33, 14.61it/s]\n",
      "Train Epoch 12:   0%|          | 2/3731 [00:00<04:11, 14.85it/s]"
     ]
    },
    {
     "name": "stdout",
     "output_type": "stream",
     "text": [
      "Epoch: [11/15] | Cross_entropy loss: 0.107 | Validation Loss: 0.388\n",
      "Mean Recall: 0.96 | Validation Recall: 0.87\n"
     ]
    },
    {
     "name": "stderr",
     "output_type": "stream",
     "text": [
      "Train Epoch 12:  40%|████      | 1493/3731 [01:42<02:33, 14.56it/s]\n",
      "Train Epoch 13:   0%|          | 2/3731 [00:00<04:14, 14.68it/s]"
     ]
    },
    {
     "name": "stdout",
     "output_type": "stream",
     "text": [
      "Epoch: [12/15] | Cross_entropy loss: 0.106 | Validation Loss: 0.450\n",
      "Mean Recall: 0.96 | Validation Recall: 0.85\n"
     ]
    },
    {
     "name": "stderr",
     "output_type": "stream",
     "text": [
      "Train Epoch 13:  40%|████      | 1493/3731 [01:42<02:34, 14.53it/s]\n",
      "Train Epoch 14:   0%|          | 2/3731 [00:00<04:14, 14.63it/s]"
     ]
    },
    {
     "name": "stdout",
     "output_type": "stream",
     "text": [
      "Epoch: [13/15] | Cross_entropy loss: 0.099 | Validation Loss: 0.454\n",
      "Mean Recall: 0.97 | Validation Recall: 0.85\n"
     ]
    },
    {
     "name": "stderr",
     "output_type": "stream",
     "text": [
      "Train Epoch 14:  40%|████      | 1493/3731 [01:42<02:33, 14.60it/s]\n",
      "Train Epoch 15:   0%|          | 2/3731 [00:00<04:13, 14.72it/s]"
     ]
    },
    {
     "name": "stdout",
     "output_type": "stream",
     "text": [
      "Epoch: [14/15] | Cross_entropy loss: 0.098 | Validation Loss: 0.401\n",
      "Mean Recall: 0.97 | Validation Recall: 0.86\n"
     ]
    },
    {
     "name": "stderr",
     "output_type": "stream",
     "text": [
      "Train Epoch 15:  40%|████      | 1493/3731 [01:42<02:33, 14.58it/s]\n"
     ]
    },
    {
     "name": "stdout",
     "output_type": "stream",
     "text": [
      "Epoch: [15/15] | Cross_entropy loss: 0.093 | Validation Loss: 0.468\n",
      "Mean Recall: 0.97 | Validation Recall: 0.85\n"
     ]
    },
    {
     "data": {
      "image/png": "[encoded data removed]",
      "text/plain": [
       "<Figure size 1152x1008 with 1 Axes>"
      ]
     },
     "metadata": {},
     "output_type": "display_data"
    }
   ],
   "source": [
    "rcm.train(epochs=15, verbose=config.VERBOSE)"
   ]
  },
  {
   "cell_type": "code",
   "execution_count": null,
   "metadata": {},
   "outputs": [],
   "source": []
  }
 ],
 "metadata": {
  "kernelspec": {
   "display_name": "Python 3",
   "language": "python",
   "name": "python3"
  },
  "language_info": {
   "codemirror_mode": {
    "name": "ipython",
    "version": 3
   },
   "file_extension": ".py",
   "mimetype": "text/x-python",
   "name": "python",
   "nbconvert_exporter": "python",
   "pygments_lexer": "ipython3",
   "version": "3.6.6"
  }
 },
 "nbformat": 4,
 "nbformat_minor": 2
}
